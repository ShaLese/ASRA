{
 "cells": [
  {
   "cell_type": "markdown",
   "metadata": {},
   "source": [
    "# Visualizer Agent\n",
    "\n",
    "This notebook implements the visualization component using Stable Diffusion for generating visual representations of data and concepts."
   ]
  },
  {
   "cell_type": "code",
   "execution_count": null,
   "metadata": {},
   "source": [
    "import sys\n",
    "from pathlib import Path\n",
    "sys.path.append(str(Path.cwd().parent))\n",
    "\n",
    "import torch\n",
    "from diffusers import StableDiffusionPipeline\n",
    "from PIL import Image\n",
    "import json\n",
    "from typing import Dict, List\n",
    "from utils.config import setup_logging, MODEL_CONFIGS, OUTPUTS_DIR\n",
    "from utils.helpers import load_json\n",
    "from tqdm import tqdm"
   ]
  },
  {
   "cell_type": "code",
   "execution_count": null,
   "metadata": {},
   "source": [
    "# Setup logging\n",
    "logger = setup_logging('visualizer')\n",
    "\n",
    "class VisualizationGenerator:\n",
    "    def __init__(self):\n",
    "        self.device = torch.device('cuda' if torch.cuda.is_available() else 'cpu')\n",
    "        self.model_id = MODEL_CONFIGS['visualization']['stable_diffusion_model']\n",
    "        \n",
    "        # Initialize Stable Diffusion\n",
    "        self.pipeline = StableDiffusionPipeline.from_pretrained(\n",
    "            self.model_id,\n",
    "            torch_dtype=torch.float16 if torch.cuda.is_available() else torch.float32\n",
    "        ).to(self.device)\n",
    "    \n",
    "    def generate_visualization(self, prompt: str, output_path: Path) -> Path:\n",
    "        \"\"\"Generate visualization using Stable Diffusion.\"\"\"\n",
    "        try:\n",
    "            # Generate image\n",
    "            image = self.pipeline(prompt).images[0]\n",
    "            \n",
    "            # Save image\n",
    "            image.save(output_path)\n",
    "            return output_path\n",
    "            \n",
    "        except Exception as e:\n",
    "            logger.error(f\"Error generating visualization: {str(e)}\")\n",
    "            return None"
   ]
  },
  {
   "cell_type": "code",
   "execution_count": null,
   "metadata": {},
   "source": [
    "def generate_visualizations() -> Dict:\n",
    "    \"\"\"Generate visualizations for hypotheses and experimental results.\"\"\"\n",
    "    logger.info('Starting visualization generation')\n",
    "    \n",
    "    # Create visualization directory\n",
    "    vis_dir = OUTPUTS_DIR / 'visualizations'\n",
    "    vis_dir.mkdir(exist_ok=True)\n",
    "    \n",
    "    # Load hypotheses and analysis results\n",
    "    try:\n",
    "        hypotheses = load_json(OUTPUTS_DIR / 'generated_hypotheses.json')\n",
    "        analysis = load_json(OUTPUTS_DIR / 'experimental_analysis.json')\n",
    "    except Exception as e:\n",
    "        logger.error(f'Error loading results: {str(e)}')\n",
    "        return {}\n",
    "    \n",
    "    # Initialize visualization generator\n",
    "    generator = VisualizationGenerator()\n",
    "    visualization_results = {}\n",
    "    \n",
    "    # Generate visualizations for hypotheses\n",
    "    for title, data in tqdm(hypotheses.items(), desc='Generating hypothesis visualizations'):\n",
    "        hypothesis = data['generated_hypothesis']\n",
    "        prompt = f\"Scientific visualization of hypothesis: {hypothesis}\"\n",
    "        \n",
    "        output_path = vis_dir / f'hypothesis_{title}.png'\n",
    "        if generator.generate_visualization(prompt, output_path):\n",
    "            visualization_results[f'hypothesis_{title}'] = str(output_path)\n",
    "    \n",
    "    # Generate visualizations for experimental results\n",
    "    for dataset, results in tqdm(analysis.items(), desc='Generating results visualizations'):\n",
    "        # Create prompt based on feature importance\n",
    "        feature_importance = results['feature_importance']\n",
    "        prompt = f\"Scientific data visualization showing relationship between {len(feature_importance)} features\"\n",
    "        \n",
    "        output_path = vis_dir / f'results_{dataset}.png'\n",
    "        if generator.generate_visualization(prompt, output_path):\n",
    "            visualization_results[f'results_{dataset}'] = str(output_path)\n",
    "    \n",
    "    # Save visualization metadata\n",
    "    metadata_path = vis_dir / 'visualization_metadata.json'\n",
    "    with open(metadata_path, 'w') as f:\n",
    "        json.dump(visualization_results, f, indent=2)\n",
    "    \n",
    "    logger.info(f'Saved visualization metadata to {metadata_path}')\n",
    "    return visualization_results"
   ]
  },
  {
   "cell_type": "code",
   "execution_count": null,
   "metadata": {},
   "source": [
    "if __name__ == \"__main__\":\n",
    "    # Generate visualizations\n",
    "    results = generate_visualizations()\n",
    "    \n",
    "    # Print summary\n",
    "    print(f\"Generated {len(results)} visualizations\")\n",
    "    for name, path in results.items():\n",
    "        print(f\"\\n{name}:\")\n",
    "        print(f\"Saved to: {path}\")"
   ]
  }
 ],
 "metadata": {
  "kernelspec": {
   "display_name": "Python 3",
   "language": "python",
   "name": "python3"
  },
  "language_info": {
   "codemirror_mode": {
    "name": "ipython",
    "version": 3
   },
   "file_extension": ".py",
   "mimetype": "text/x-python",
   "name": "python",
   "nbconvert_exporter": "python",
   "pygments_lexer": "ipython3",
   "version": "3.8.0"
  }
 },
 "nbformat": 4,
 "nbformat_minor": 4
}
