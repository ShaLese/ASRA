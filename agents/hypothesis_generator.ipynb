{
 "cells": [
  {
   "cell_type": "markdown",
   "metadata": {},
   "source": [
    "# Hypothesis Generator Agent\n",
    "\n",
    "This notebook implements the hypothesis generation component using DeepSeek-R1 for reasoning and hypothesis formulation based on literature analysis."
   ]
  },
  {
   "cell_type": "code",
   "execution_count": null,
   "metadata": {},
   "source": [
    "import sys\n",
    "from pathlib import Path\n",
    "sys.path.append(str(Path.cwd().parent))\n",
    "\n",
    "import json\n",
    "import requests\n",
    "from typing import List, Dict\n",
    "from utils.config import setup_logging, DEEPSEEK_API_KEY, OUTPUTS_DIR\n",
    "from utils.helpers import load_json, save_json\n",
    "from tqdm import tqdm"
   ]
  },
  {
   "cell_type": "code",
   "execution_count": null,
   "metadata": {},
   "source": [
    "# Setup logging\n",
    "logger = setup_logging('hypothesis_generator')\n",
    "\n",
    "class DeepSeekAPI:\n",
    "    def __init__(self, api_key: str):\n",
    "        self.api_key = api_key\n",
    "        self.base_url = \"https://api.deepseek.com/v1\"\n",
    "        self.headers = {\n",
    "            \"Authorization\": f\"Bearer {api_key}\",\n",
    "            \"Content-Type\": \"application/json\"\n",
    "        }\n",
    "    \n",
    "    def generate_hypothesis(self, context: str) -> Dict:\n",
    "        \"\"\"Generate hypothesis using DeepSeek-R1.\"\"\"\n",
    "        prompt = f\"\"\"\n",
    "        Based on the following research context, generate a novel and testable scientific hypothesis:\n",
    "        \n",
    "        Context:\n",
    "        {context}\n",
    "        \n",
    "        Please provide:\n",
    "        1. A clear hypothesis statement\n",
    "        2. The rationale behind it\n",
    "        3. Potential experimental approaches to test it\n",
    "        \"\"\"\n",
    "        \n",
    "        try:\n",
    "            response = requests.post(\n",
    "                f\"{self.base_url}/completions\",\n",
    "                headers=self.headers,\n",
    "                json={\n",
    "                    \"model\": \"deepseek-r1\",\n",
    "                    \"prompt\": prompt,\n",
    "                    \"max_tokens\": 1000,\n",
    "                    \"temperature\": 0.7\n",
    "                }\n",
    "            )\n",
    "            response.raise_for_status()\n",
    "            return response.json()\n",
    "            \n",
    "        except Exception as e:\n",
    "            logger.error(f\"Error in DeepSeek API call: {str(e)}\")\n",
    "            return None"
   ]
  },
  {
   "cell_type": "code",
   "execution_count": null,
   "metadata": {},
   "source": [
    "def generate_hypotheses() -> Dict:\n",
    "    \"\"\"Generate hypotheses based on literature analysis.\"\"\"\n",
    "    logger.info('Starting hypothesis generation')\n",
    "    \n",
    "    # Load literature analysis\n",
    "    try:\n",
    "        analysis_path = OUTPUTS_DIR / 'literature_analysis.json'\n",
    "        literature_analysis = load_json(analysis_path)\n",
    "    except Exception as e:\n",
    "        logger.error(f'Error loading literature analysis: {str(e)}')\n",
    "        return {}\n",
    "    \n",
    "    # Initialize DeepSeek API\n",
    "    deepseek = DeepSeekAPI(DEEPSEEK_API_KEY)\n",
    "    \n",
    "    # Generate hypotheses\n",
    "    hypotheses = {}\n",
    "    for paper_title, analysis in tqdm(literature_analysis.items(), desc='Generating hypotheses'):\n",
    "        # Prepare context from key insights\n",
    "        context = \"\\n\".join(analysis['key_insights'])\n",
    "        \n",
    "        # Generate hypothesis\n",
    "        result = deepseek.generate_hypothesis(context)\n",
    "        if result:\n",
    "            hypotheses[paper_title] = {\n",
    "                'context': context,\n",
    "                'generated_hypothesis': result\n",
    "            }\n",
    "            logger.info(f'Generated hypothesis for paper: {paper_title}')\n",
    "    \n",
    "    # Save results\n",
    "    output_path = OUTPUTS_DIR / 'generated_hypotheses.json'\n",
    "    save_json(hypotheses, output_path)\n",
    "    logger.info(f'Saved generated hypotheses to {output_path}')\n",
    "    \n",
    "    return hypotheses"
   ]
  },
  {
   "cell_type": "code",
   "execution_count": null,
   "metadata": {},
   "source": [
    "if __name__ == \"__main__\":\n",
    "    # Generate hypotheses\n",
    "    results = generate_hypotheses()\n",
    "    \n",
    "    # Print summary\n",
    "    print(f\"Generated hypotheses for {len(results)} papers\")\n",
    "    for title, data in results.items():\n",
    "        print(f\"\\nPaper: {title}\")\n",
    "        print(\"Generated Hypothesis:\")\n",
    "        print(data['generated_hypothesis'])"
   ]
  }
 ],
 "metadata": {
  "kernelspec": {
   "display_name": "Python 3",
   "language": "python",
   "name": "python3"
  },
  "language_info": {
   "codemirror_mode": {
    "name": "ipython",
    "version": 3
   },
   "file_extension": ".py",
   "mimetype": "text/x-python",
   "name": "python",
   "nbconvert_exporter": "python",
   "pygments_lexer": "ipython3",
   "version": "3.8.0"
  }
 },
 "nbformat": 4,
 "nbformat_minor": 4
}
